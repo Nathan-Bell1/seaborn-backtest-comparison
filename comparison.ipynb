{
 "cells": [
  {
   "cell_type": "markdown",
   "id": "6951cb35",
   "metadata": {},
   "source": [
    "# Compare Backtesting Trading Strategies with Seaborn\n",
    "\n",
    "---\n",
    "\n",
    "This notebook demonstrates how to implement and evaluate simple trading strategies using historical stock data.  \n",
    "We will use **pandas** for data manipulation, **seaborn** for visualization, and **matplotlib** for plotting.\n",
    "\n",
    "---\n",
    "\n",
    "### Imports"
   ]
  },
  {
   "cell_type": "code",
   "execution_count": null,
   "id": "6f62c3d7",
   "metadata": {},
   "outputs": [],
   "source": [
    "import matplotlib.pyplot as plt\n",
    "import pandas as pd\n",
    "import seaborn as sns\n",
    "import talib\n",
    "import yfinance as yf\n",
    "from backtesting import Backtest, Strategy\n",
    "from backtesting.lib import crossover"
   ]
  },
  {
   "cell_type": "markdown",
   "id": "8c4876dc",
   "metadata": {},
   "source": [
    "##  Strategy Implementations\n",
    "\n",
    "---\n",
    "\n",
    "### 1. Simple Moving Average (SMA)\n",
    "Buys when the short-term average crosses up through the long-term average (golden cross). Sells when the short-term average crosses down through the long-term average (death cross)."
   ]
  },
  {
   "cell_type": "code",
   "execution_count": null,
   "id": "140b4bf8",
   "metadata": {},
   "outputs": [],
   "source": [
    "class SMAcrossover(Strategy):\n",
    "    display_name = \"SMAcrossover\"\n",
    "    short = 5\n",
    "    long = 10\n",
    "\n",
    "    def init(self):\n",
    "        close = self.data.Close\n",
    "        self.sma_short = self.I(talib.SMA, close, self.short)\n",
    "        self.sma_long = self.I(talib.SMA, close, self.long)\n",
    "\n",
    "    def next(self):\n",
    "        cross_up = crossover(self.sma_short, self.sma_long)\n",
    "        cross_down = crossover(self.sma_long, self.sma_short)\n",
    "        if cross_up:\n",
    "            if self.position:\n",
    "                self.position.close()\n",
    "            self.buy()\n",
    "        elif cross_down:\n",
    "            if self.position:\n",
    "                self.position.close()"
   ]
  },
  {
   "cell_type": "markdown",
   "id": "d54cc300",
   "metadata": {},
   "source": [
    "### 2. Relative Strength Index (RSI)\n",
    "\n",
    "Buys when the RSI shoots up above 30. Sells when the RSI drops below 70."
   ]
  },
  {
   "cell_type": "code",
   "execution_count": null,
   "id": "1d63893b",
   "metadata": {},
   "outputs": [],
   "source": [
    "class RSI(Strategy):\n",
    "    display_name = \"RSI\"\n",
    "    timeperiod = 7\n",
    "    \n",
    "    def init(self):\n",
    "        self.rsi = self.I(talib.RSI, self.data.Close, self.timeperiod)\n",
    "    \n",
    "    def next(self):\n",
    "        if self.rsi[-2] < 35 and self.rsi[-1] >= 35:\n",
    "            if self.position:\n",
    "                self.position.close()\n",
    "            self.buy()\n",
    "        elif self.rsi[-2] > 65 and self.rsi[-1] <= 65:\n",
    "            if self.position:\n",
    "                self.position.close()"
   ]
  },
  {
   "cell_type": "markdown",
   "id": "8b2dc659",
   "metadata": {},
   "source": [
    "### 3. Momentum Investing\n",
    "\n",
    "Buys when momentum is positive. Sells when momentum is negative."
   ]
  },
  {
   "cell_type": "code",
   "execution_count": null,
   "id": "6a1e488d",
   "metadata": {},
   "outputs": [],
   "source": [
    "class Momentum(Strategy):\n",
    "    display_name = \"Momentum\"\n",
    "    timeperiod = 20\n",
    "    \n",
    "    def init(self):\n",
    "        close = self.data.Close\n",
    "        self.momentum = self.I(talib.MOM, close, timeperiod=self.timeperiod)\n",
    "        \n",
    "    def next(self):\n",
    "        if self.momentum[-1] > 0 and self.momentum[-2] <= 0:\n",
    "            if self.position:\n",
    "                self.position.close()\n",
    "            self.buy()\n",
    "        elif self.momentum[-1] < 0 and self.momentum[-2] >= 0:\n",
    "            if self.position:\n",
    "                self.position.close()"
   ]
  },
  {
   "cell_type": "markdown",
   "id": "f3ea4514",
   "metadata": {},
   "source": [
    "## Main Function\n",
    "\n",
    "---\n",
    "\n",
    "### Ask User for a Strategy\n",
    "\n",
    "Provide user a list of available strategies and ask use which strategies to compare."
   ]
  },
  {
   "cell_type": "code",
   "execution_count": null,
   "id": "9712a8c5",
   "metadata": {},
   "outputs": [],
   "source": [
    "strategies = {\n",
    "    'smacrossover': SMAcrossover,\n",
    "    'rsi': RSI,\n",
    "    'momentum': Momentum\n",
    "}\n",
    "\n",
    "while True:\n",
    "    try:\n",
    "        n = int(input(\"How many strategies would you like to compare? \"))\n",
    "        if n < 1:\n",
    "            print(\"Please enter a positive integer.\")\n",
    "            continue\n",
    "        break\n",
    "    except ValueError:\n",
    "        print(\"Invalid input. Please enter a valid integer.\")\n",
    "\n",
    "print(\"\\nAvailable strategies:\")\n",
    "for strat in strategies.values():\n",
    "    print(f\" - {strat.display_name}\")\n",
    "print(\"Please type the name of the stock(s) you wish to compare.\")\n",
    "\n",
    "chosen_strategies = []\n",
    "for i in range(n):\n",
    "    while True:\n",
    "        strategy_input = input(f\"\\nStrategy {i + 1}: \").strip().lower()\n",
    "        if strategy_input in strategies and strategy_input not in chosen_strategies:\n",
    "            chosen_strategies.append(strategy_input)\n",
    "            print(f\"{strategies[strategy_input].display_name} added.\")\n",
    "            break\n",
    "        else:\n",
    "            print(\"Invalid or duplicate strategy. Try again.\")"
   ]
  },
  {
   "cell_type": "markdown",
   "id": "e1565449",
   "metadata": {},
   "source": [
    "### Get Data\n",
    "\n",
    "Download data from Yahoo Finance and set necessary columns."
   ]
  },
  {
   "cell_type": "code",
   "execution_count": null,
   "id": "8bee9371",
   "metadata": {},
   "outputs": [],
   "source": [
    "df = yf.download('AAPL', period='2y', auto_adjust=True)\n",
    "df.columns = ['Open', 'High', 'Low', 'Close', 'Volume']"
   ]
  },
  {
   "cell_type": "markdown",
   "id": "a54805e9",
   "metadata": {},
   "source": [
    "### Backtest the Strategies\n",
    "\n",
    "Backtest and print the numerical results of each strategy."
   ]
  },
  {
   "cell_type": "code",
   "execution_count": null,
   "id": "e7ff908b",
   "metadata": {},
   "outputs": [],
   "source": [
    "cash, commission, margin = 1000000, 0.001, 1.0\n",
    "\n",
    "results = {}\n",
    "for strat in chosen_strategies:\n",
    "    bt = Backtest(df, strategies[strat], cash=cash, commission=commission, margin=margin)\n",
    "    results[strat] = bt.run()\n",
    "    print(f\"Results for {strategies[strat].display_name}:\\n{results[strat]}\\n\\n\")\n",
    "    print(f\"Number of trades: {len(results[strat]._trades)}\")"
   ]
  },
  {
   "cell_type": "markdown",
   "id": "3e624dd0",
   "metadata": {},
   "source": [
    "## Plot Data\n",
    "\n",
    "---\n",
    "\n",
    "### Plot Comparison Graph\n",
    "\n",
    "Graph includes buy and hold equity along with chosen strategies."
   ]
  },
  {
   "cell_type": "code",
   "execution_count": null,
   "id": "0c05997e",
   "metadata": {},
   "outputs": [],
   "source": [
    "buy_and_hold_equity = (df['Close'] / df['Close'].iloc[0]) * cash\n",
    "\n",
    "sns.set_theme(style=\"darkgrid\")\n",
    "\n",
    "plt.figure(figsize=(12, 6))\n",
    "\n",
    "for name, result in results.items():\n",
    "    sns.lineplot(x=result._equity_curve.index, y=result._equity_curve['Equity'], label=strategies[name].display_name)\n",
    "sns.lineplot(x=buy_and_hold_equity.index, y=buy_and_hold_equity.values, linestyle='--', label=f\"Buy and Hold\")\n",
    "\n",
    "plt.title(\"Equity Curve Comparison with Buy and Hold\")\n",
    "plt.xlabel(\"Time\")\n",
    "plt.ylabel(\"Equity ($)\")\n",
    "plt.legend()\n",
    "plt.show()"
   ]
  },
  {
   "cell_type": "markdown",
   "id": "6f7c0940",
   "metadata": {},
   "source": [
    "### Plot Selected Graph"
   ]
  },
  {
   "cell_type": "code",
   "execution_count": null,
   "id": "3670f852",
   "metadata": {},
   "outputs": [],
   "source": [
    "if plot_choice in [\"y\", \"Y\", \"yes\", \"Yes\"]:\n",
    "    sns.set_theme(style=\"darkgrid\")\n",
    "\n",
    "    plt.figure(figsize=(12, 6))\n",
    "\n",
    "    for name, result in results.items():\n",
    "        sns.lineplot(x=result._equity_curve.index, y=result._equity_curve['Equity'], label=strategies[name].display_name)\n",
    "    sns.lineplot(x=buy_and_hold_equity.index, y=buy_and_hold_equity.values, linestyle='--', label=f\"Buy and Hold\")\n",
    "\n",
    "    plt.title(\"Equity Curve Comparison with Buy and Hold\")\n",
    "    plt.xlabel(\"Time\")\n",
    "    plt.ylabel(\"Equity ($)\")\n",
    "    plt.legend()\n",
    "    plt.show()\n",
    "elif plot_choice in [\"n\", \"N\", \"no\", \"No\"]:\n",
    "    bt.plot()"
   ]
  }
 ],
 "metadata": {
  "kernelspec": {
   "display_name": "venv",
   "language": "python",
   "name": "python3"
  },
  "language_info": {
   "codemirror_mode": {
    "name": "ipython",
    "version": 3
   },
   "file_extension": ".py",
   "mimetype": "text/x-python",
   "name": "python",
   "nbconvert_exporter": "python",
   "pygments_lexer": "ipython3",
   "version": "3.10.18"
  }
 },
 "nbformat": 4,
 "nbformat_minor": 5
}
